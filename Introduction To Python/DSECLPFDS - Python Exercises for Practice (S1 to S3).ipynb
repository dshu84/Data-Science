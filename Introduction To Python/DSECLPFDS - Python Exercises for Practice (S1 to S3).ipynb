{
 "cells": [
  {
   "cell_type": "markdown",
   "metadata": {},
   "source": [
    " ## Instructions: Do not use any Python libraries and write the following codes from scratch for best learning revision."
   ]
  },
  {
   "cell_type": "markdown",
   "metadata": {},
   "source": [
    "**1. Given a number, find the sum of its digits. Take the number as an input from the user.**"
   ]
  },
  {
   "cell_type": "code",
   "execution_count": 1,
   "metadata": {},
   "outputs": [
    {
     "name": "stdin",
     "output_type": "stream",
     "text": [
      "Enter a number:  2563\n"
     ]
    },
    {
     "name": "stdout",
     "output_type": "stream",
     "text": [
      "Sum of digits in provided number is :16\n"
     ]
    }
   ],
   "source": [
    "my_number = input(\"Enter a number: \")\n",
    "sum_digits = 0\n",
    "for num in my_number:\n",
    "    sum_digits = sum_digits + int(num) # convert str to int to perform mathematical operation\n",
    "print(\"Sum of digits in provided number is :\" + str(sum_digits)) # convert int to str to perform string operation"
   ]
  },
  {
   "cell_type": "markdown",
   "metadata": {},
   "source": [
    "**2. Given a number, check whether the given number is an Armstrong number or not. <br>\n",
    "A positive integer is called an Armstrong number of order n if: <br>\n",
    "abcd... = $a^n + b^n + c^n + d^n + ...$ <br>\n",
    "Example: 153 = $1^3 + 5^3 + 3^3$ <br>\n",
    "153 is an Armstrong number of order 3. <br>\n",
    "Inputs from the user will be number and order n.**"
   ]
  },
  {
   "cell_type": "code",
   "execution_count": 2,
   "metadata": {},
   "outputs": [
    {
     "name": "stdin",
     "output_type": "stream",
     "text": [
      "Enter a number:  153\n",
      "Enter the order value:  3\n"
     ]
    },
    {
     "name": "stdout",
     "output_type": "stream",
     "text": [
      "153\n",
      "The provided number is an Armstrong number\n"
     ]
    }
   ],
   "source": [
    "my_number2 = input(\"Enter a number: \")\n",
    "my_order2 = input(\"Enter the order value: \")\n",
    "ordered_val = 0\n",
    "armstrong_val = 0\n",
    "\n",
    "for num in my_number2:\n",
    "    ordered_val = pow(int(num), int(my_order2)) # calculate power value\n",
    "    armstrong_val = armstrong_val + ordered_val\n",
    "print(armstrong_val)\n",
    "\n",
    "if int(my_number2) == armstrong_val: # convert str to int for mathematical operation\n",
    "    print(\"The provided number is an Armstrong number\")\n",
    "else:\n",
    "    print(\"The provided number is not an Armstrong number\")"
   ]
  },
  {
   "cell_type": "markdown",
   "metadata": {},
   "source": [
    "**3. Given a string, write a python function to check if it is palindrome or not. <br>\n",
    "A string is said to be palindrome if the reverse of the string is the same as string.<br>\n",
    "For example, “malayalam” is a palindrome, but “music” is not a palindrome.**"
   ]
  },
  {
   "cell_type": "code",
   "execution_count": 3,
   "metadata": {},
   "outputs": [
    {
     "name": "stdin",
     "output_type": "stream",
     "text": [
      "Enter a word:  Malayalam\n"
     ]
    },
    {
     "name": "stdout",
     "output_type": "stream",
     "text": [
      "Provided string is a palindrome\n"
     ]
    }
   ],
   "source": [
    "input_string = input(\"Enter a word: \").lower() # converted all alphabets in input string to lower\n",
    "reversed_string = ''.join(reversed(input_string))\n",
    "if (reversed_string == input_string):\n",
    "    print(\"Provided string is a palindrome\")\n",
    "else:\n",
    "    print(\"Provided string is not a palindrome\")"
   ]
  },
  {
   "cell_type": "markdown",
   "metadata": {},
   "source": [
    "**4. Given an array which may contain duplicates, print all elements and their frequencies.**"
   ]
  },
  {
   "cell_type": "code",
   "execution_count": 4,
   "metadata": {},
   "outputs": [
    {
     "name": "stdout",
     "output_type": "stream",
     "text": [
      "The list of elements in array and their frequencies are below:\n",
      "ring : 3\n",
      "fish : 1\n",
      "ball : 3\n",
      "bear : 1\n"
     ]
    }
   ],
   "source": [
    "input_list = [\"ball\", \"fish\" , \"ball\", \"ring\", \"bear\", \"ring\", \"ring\", \"ball\"]\n",
    "input_set = set(input_list)\n",
    "\n",
    "print(\"The list of elements in array and their frequencies are below:\")\n",
    "for element in input_set:\n",
    "    index = 0\n",
    "    count = 0\n",
    "    while index < len(input_list):\n",
    "        if element == input_list[index]:\n",
    "            count = count + 1\n",
    "        index = index + 1\n",
    "    print(element + \" : \" + str(count))"
   ]
  },
  {
   "cell_type": "markdown",
   "metadata": {},
   "source": [
    "**5. Given a number n, write a function to print all prime factors of n. <br>\n",
    "For example, if the input number is 12, then output should be \"2 2 3\".<br> \n",
    "Hint: Following are the steps to find all prime factors.**\n",
    "* While n is divisible by 2, print 2 and divide n by 2.<br>\n",
    "* After step 1, n must be odd. Now start a loop from i = 3 to square root of n. While i divides n, print i and divide n by i. After i fails to divide n, increment i by 2 and continue.<br>\n",
    "* If n is a prime number and is greater than 2, then n will not become 1 by above two steps. So print n if it is greater than 2."
   ]
  },
  {
   "cell_type": "code",
   "execution_count": 6,
   "metadata": {},
   "outputs": [
    {
     "name": "stdin",
     "output_type": "stream",
     "text": [
      "Enter a number:  12\n"
     ]
    },
    {
     "name": "stdout",
     "output_type": "stream",
     "text": [
      "[2, 2, 3]\n"
     ]
    }
   ],
   "source": [
    "input_number = int(input(\"Enter a number: \"))\n",
    "prime_factors = []\n",
    "while input_number % 2 == 0:\n",
    "    prime_factors.append(2)\n",
    "    input_number = input_number / 2\n",
    "i = 3\n",
    "import math\n",
    "while i <= math.sqrt(input_number):\n",
    "    if input_number % i == 0:\n",
    "        prime_factors.append(i)\n",
    "        input_number = input_number / i\n",
    "    else:\n",
    "        i = i + 2\n",
    "if input_number > 2:\n",
    "    prime_factors.append(int(input_number))\n",
    "print(prime_factors)"
   ]
  },
  {
   "cell_type": "markdown",
   "metadata": {},
   "source": [
    "**6. Given two numbers n and r, find the value of nCr (binomial coefficient: nCr = (n!) / (r! * (n-r)!))**"
   ]
  },
  {
   "cell_type": "code",
   "execution_count": 7,
   "metadata": {},
   "outputs": [
    {
     "name": "stdin",
     "output_type": "stream",
     "text": [
      "Enter the value of n:  5\n",
      "Enter the value of r:  2\n"
     ]
    },
    {
     "name": "stdout",
     "output_type": "stream",
     "text": [
      "Value of 5C2 is :10.0\n"
     ]
    }
   ],
   "source": [
    "# function to calculate factorial of a number\n",
    "def my_fact(number):\n",
    "    fact = 1;\n",
    "    while number > 0:\n",
    "        fact = fact * number\n",
    "        number = number - 1\n",
    "    return fact\n",
    "# function ends here\n",
    "\n",
    "n = int(input(\"Enter the value of n: \"))\n",
    "r = int(input(\"Enter the value of r: \"))\n",
    "     \n",
    "nCr_value = my_fact(n) / (my_fact(r) * my_fact (n-r))\n",
    "print(\"Value of {}C{} is :\".format(n, r) + str(nCr_value))"
   ]
  },
  {
   "cell_type": "markdown",
   "metadata": {},
   "source": [
    "**7. Searching: Given a sorted array arr[] of n elements, write a function to search a given element x in arr[]. Do it using linear and binary search techniques.**"
   ]
  },
  {
   "cell_type": "code",
   "execution_count": null,
   "metadata": {},
   "outputs": [],
   "source": [
    "my_array = [\"ball\", \"fish\" , \"ball\", \"ring\", \"bear\", \"ring\", \"ring\", \"ball\"]\n",
    "input_val = input(\"Enter a value :\")\n",
    "if input_val in my_array:\n",
    "    print(\"available\")\n",
    "else:\n",
    "    print(\"unavailable\")"
   ]
  },
  {
   "cell_type": "markdown",
   "metadata": {},
   "source": [
    "**8. Input a text file (containing 1 or more paragraphs of English text) from the user, parse this file to display the frequency of occurrence of each word in this text file. Find the 3 most frequent words as well.**"
   ]
  },
  {
   "cell_type": "code",
   "execution_count": null,
   "metadata": {},
   "outputs": [],
   "source": [
    "# access file\n",
    "input_file = open(\"dummy_file.txt\")\n",
    "content = input_file.read()\n",
    "input_file.close()\n",
    "# end accessing file\n",
    "\n",
    "# convert the file to a plain text string and remove special characters\n",
    "content = content.replace(\"\\n\", \"\").replace(\".\", \"\").replace(\",\", \"\")\n",
    "\n",
    "# convert file string to array of words\n",
    "content_array = content.split()\n",
    "\n",
    "# create a set to get unique words from array\n",
    "content_set = set(content_array)\n",
    "\n",
    "print(\"The list of words in array and their frequencies are below: \\n\")\n",
    "\n",
    "word_dict = {} # dictionary to store words and their frequency\n",
    "for element in content_set:\n",
    "    index = 0\n",
    "    count = 0\n",
    "    while index < len(content_array):\n",
    "        if element == content_array[index]:\n",
    "            count = count + 1\n",
    "        index = index + 1\n",
    "        word_dict[element] = count\n",
    "    #print(element + \" : \" + str(count)) # way 1\n",
    "print(word_dict) # way 3\n",
    "\n",
    "#print(sorted(word_dict.values(), reverse = True))\n",
    "\n",
    "#new_word_dict = sorted(word_dict.values(), reverse = True)\n",
    "\n",
    "#print(new_word_dict)\n",
    "\n",
    "print(\"\\nThree most frequent words are: \\n\")\n",
    "\n",
    "from collections import Counter\n",
    "word_counts = Counter(content_array)\n",
    "top_three = word_counts.most_common(3)\n",
    "print(top_three)"
   ]
  }
 ],
 "metadata": {
  "kernelspec": {
   "display_name": "Python 3",
   "language": "python",
   "name": "python3"
  },
  "language_info": {
   "codemirror_mode": {
    "name": "ipython",
    "version": 3
   },
   "file_extension": ".py",
   "mimetype": "text/x-python",
   "name": "python",
   "nbconvert_exporter": "python",
   "pygments_lexer": "ipython3",
   "version": "3.8.5"
  }
 },
 "nbformat": 4,
 "nbformat_minor": 4
}
